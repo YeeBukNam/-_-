{
 "cells": [
  {
   "cell_type": "markdown",
   "id": "600cb0d6",
   "metadata": {},
   "source": [
    "퍼셉트론으로 AND,OR,XOR 게이트를 구현할 수 있다. "
   ]
  },
  {
   "cell_type": "code",
   "execution_count": 3,
   "id": "43bd6b81",
   "metadata": {},
   "outputs": [
    {
     "data": {
      "text/plain": [
       "1"
      ]
     },
     "execution_count": 3,
     "metadata": {},
     "output_type": "execute_result"
    }
   ],
   "source": [
    "def AND(x1,x2):\n",
    "    w1, w2, theta = 0.5, 0.5, 0.7 #매개변수를 조정하여 게이트를 바꿀 수 있다.\n",
    "    tmp = x1*w1 + x2*w2\n",
    "    if tmp <= theta:\n",
    "        return 0\n",
    "    elif tmp > theta:\n",
    "        return 1\n",
    "    \n",
    "\n",
    "def NAND(x1,x2):\n",
    "    w1, w2, theta = 0.5, 0.5, 0.7 #매개변수를 조정하여 게이트를 바꿀 수 있다.\n",
    "    tmp = x1*w1 + x2*w2\n",
    "    if tmp <= theta:\n",
    "        return 1\n",
    "    elif tmp > theta:\n",
    "        return 0\n",
    "    \n",
    "def OR(x1,x2):\n",
    "    w1, w2, theta = 0.5, 0.5, 0.2 #매개변수를 조정하여 게이트를 바꿀 수 있다.\n",
    "    tmp = x1*w1 + x2*w2\n",
    "    if tmp <= theta:\n",
    "        return 0\n",
    "    elif tmp > theta:\n",
    "        return 1\n"
   ]
  },
  {
   "cell_type": "markdown",
   "id": "5b46d388",
   "metadata": {},
   "source": [
    "다른관점 : 퍼셉트론은 입력신호에 가중치를 곱한 값과 편향치를 합하여, 그것이 0을 넘으면 1을 출력하고, 그렇지 않으면 0을 출력한다. \n",
    "theta는 -b 즉 편향으로 치환한다. 편향은 가중치에 대한 역치 또는 민감도를 의미한다. \n"
   ]
  },
  {
   "cell_type": "code",
   "execution_count": 6,
   "id": "596d0e63",
   "metadata": {},
   "outputs": [
    {
     "data": {
      "text/plain": [
       "-0.19999999999999996"
      ]
     },
     "execution_count": 6,
     "metadata": {},
     "output_type": "execute_result"
    }
   ],
   "source": [
    "#가중치와 편향의 개념\n",
    "import numpy as np\n",
    "x = np.array([0,1]) #입력 \n",
    "w = np.array([0.5,0.5]) #가중치\n",
    "b = -0.7 #편향\n",
    "w*x\n",
    "np.sum(w*x)\n",
    "np.sum(w*x)+b #소숫점 오차 \n"
   ]
  },
  {
   "cell_type": "code",
   "execution_count": null,
   "id": "935db5dc",
   "metadata": {},
   "outputs": [],
   "source": [
    "def AND(x1,x2):\n",
    "    x = np.array([x1,x2]) #입력 \n",
    "    w = np.array([0.5,0.5]) #가중치 - 가중치와 편향의 값을 수정하여 nand와 or 게이트를 만들 수 있다.\n",
    "    b = -0.7 \n",
    "    tmp = np.sum(w*x)+b\n",
    "    if tmp <= 0:\n",
    "        return 0\n",
    "    else\n",
    "        return 1 \n",
    "    \n",
    "def NAND(x1,x2):\n",
    "    x = np.array([x1,x2]) #입력 \n",
    "    w = np.array([0.5,0.5]) #가중치 - 가중치와 편향의 값을 수정하여 nand와 or 게이트를 만들 수 있다.\n",
    "    b = -0.7 \n",
    "    tmp = np.sum(w*x)+b\n",
    "    if tmp <= 0:\n",
    "        return 1\n",
    "    else\n",
    "        return 0 \n",
    "    \n",
    "def OR(x1,x2):\n",
    "    x = np.array([x1,x2]) #입력 \n",
    "    w = np.array([0.5,0.5]) #가중치 - 가중치와 편향의 값을 수정하여 nand와 or 게이트를 만들 수 있다.\n",
    "    b = -0.2 \n",
    "    tmp = np.sum(w*x)+b\n",
    "    if tmp <= 0:\n",
    "        return 0\n",
    "    else\n",
    "        return 1 "
   ]
  },
  {
   "cell_type": "markdown",
   "id": "f163a457",
   "metadata": {},
   "source": [
    "XOR게이트 : 베타적 논리합 기호로, NAND, AND, OR게이트를 조합하여 XOR게이트를 만들 수 있다. "
   ]
  },
  {
   "cell_type": "code",
   "execution_count": 8,
   "id": "7d068453",
   "metadata": {},
   "outputs": [
    {
     "data": {
      "text/plain": [
       "1"
      ]
     },
     "execution_count": 8,
     "metadata": {},
     "output_type": "execute_result"
    }
   ],
   "source": [
    "def XOR(x1,x2):\n",
    "    s1 = NAND(x1,x2)\n",
    "    s2 = OR(x1,x2)\n",
    "    y = AND(s1,s2)\n",
    "    return y\n",
    "XOR(0,1)"
   ]
  },
  {
   "cell_type": "code",
   "execution_count": null,
   "id": "95ef20ec",
   "metadata": {},
   "outputs": [],
   "source": []
  }
 ],
 "metadata": {
  "kernelspec": {
   "display_name": "Python 3 (ipykernel)",
   "language": "python",
   "name": "python3"
  },
  "language_info": {
   "codemirror_mode": {
    "name": "ipython",
    "version": 3
   },
   "file_extension": ".py",
   "mimetype": "text/x-python",
   "name": "python",
   "nbconvert_exporter": "python",
   "pygments_lexer": "ipython3",
   "version": "3.9.13"
  }
 },
 "nbformat": 4,
 "nbformat_minor": 5
}
